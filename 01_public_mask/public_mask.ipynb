{
 "nbformat": 4,
 "nbformat_minor": 2,
 "metadata": {
  "language_info": {
   "name": "python",
   "codemirror_mode": {
    "name": "ipython",
    "version": 3
   },
   "version": "3.7.3-final"
  },
  "orig_nbformat": 2,
  "file_extension": ".py",
  "mimetype": "text/x-python",
  "name": "python",
  "npconvert_exporter": "python",
  "pygments_lexer": "ipython3",
  "version": 3,
  "kernelspec": {
   "name": "python37364bit7c754eb5e3ff44c19029c32bb3d59b0f",
   "display_name": "Python 3.7.3 64-bit"
  }
 },
 "cells": [
  {
   "cell_type": "markdown",
   "metadata": {},
   "source": [
    "# 제목1\n",
    "## 제목 2\n",
    "### 제목 3\n",
    "#### 제목 4\n",
    "\n",
    "- 불릿1\n",
    "- 불릿2\n",
    "\n",
    "1. 리스트1\n",
    "2. 리스트2\n",
    "\n",
    "*이탤릭*\n",
    "**볼드**\n",
    "\n",
    "하이\n",
    "헬로우\n",
    "\n",
    "하이\n",
    "\n",
    "헬로우\n",
    "\n",
    "하이  \n",
    "이  \n",
    "헬로우"
   ]
  },
  {
   "cell_type": "markdown",
   "metadata": {},
   "source": [
    "# "
   ]
  },
  {
   "cell_type": "code",
   "execution_count": 1,
   "metadata": {},
   "outputs": [],
   "source": [
    "import pandas as pd\n",
    "import numpy as np\n",
    "\n",
    "import requests\n",
    "import json\n",
    "\n",
    "from datetime import datetime\n",
    "\n",
    "import folium\n",
    "from folium.plugins import MarkerCluster, MiniMap"
   ]
  },
  {
   "cell_type": "code",
   "execution_count": 2,
   "metadata": {},
   "outputs": [],
   "source": [
    "type_dict = {\n",
    "    '01':'약국',\n",
    "    '02':'우체국',\n",
    "    '03':'농협'\n",
    "}\n",
    "store_list = []\n",
    "i = 1\n",
    "\n",
    "while True:\n",
    "    store_url = 'https://8oi9s0nnth.apigw.ntruss.com/corona19-masks/v1/stores/json'\n",
    "    PARAMS = {'page':i}\n",
    "    response = requests.get(url=store_url, params=PARAMS)\n",
    "    response_dict = response.json()\n",
    "\n",
    "    page_count = response_dict['totalPages']\n",
    "\n",
    "    for store in response_dict['storeInfos']:\n",
    "        result = []\n",
    "        keys = ['name', 'addr', 'code', 'type', 'lat', 'lng']\n",
    "        for key in keys:\n",
    "            if key in store:\n",
    "                result.append(store[key])\n",
    "            else:\n",
    "                result.append(None)\n",
    "\n",
    "        store_list.append(result)\n",
    "    \n",
    "    if page_count == i:\n",
    "        break\n",
    "    else:\n",
    "        i += 1\n",
    "\n",
    "\n",
    "store_df = pd.DataFrame(store_list, columns=['name', 'address', 'code', 'vendor', 'lat', 'lng'])\n",
    "store_df['vendor'] = store_df.vendor.map(type_dict)\n",
    "store_df['code'] = store_df.code.map(str)"
   ]
  },
  {
   "cell_type": "code",
   "execution_count": 3,
   "metadata": {},
   "outputs": [
    {
     "output_type": "execute_result",
     "data": {
      "text/plain": "      name                              address        code vendor        lat  \\\n0     신신약국                충청남도 홍성군 갈산면 상촌로 12-1    34840559     약국  36.602986   \n1  밝은온누리약국        대구광역시 달서구 달구벌대로 1736 1층 (두류동)    37844571     약국  35.856678   \n2     지애약국               충청남도 보령시 남대천로 58 (대천동)    34833323     약국  36.348742   \n3  고령쌍림우체국                경상북도 고령군 쌍림면 대가야로 608  5038300744    우체국  35.679196   \n4    굿모닝약국  부산광역시 금정구 서동로 168 송월빌딩 1층 102호 (서동)    21839824     약국  35.214448   \n\n          lng  \n0  126.548911  \n1  128.555278  \n2  126.593534  \n3  128.242253  \n4  129.104775  ",
      "text/html": "<div>\n<style scoped>\n    .dataframe tbody tr th:only-of-type {\n        vertical-align: middle;\n    }\n\n    .dataframe tbody tr th {\n        vertical-align: top;\n    }\n\n    .dataframe thead th {\n        text-align: right;\n    }\n</style>\n<table border=\"1\" class=\"dataframe\">\n  <thead>\n    <tr style=\"text-align: right;\">\n      <th></th>\n      <th>name</th>\n      <th>address</th>\n      <th>code</th>\n      <th>vendor</th>\n      <th>lat</th>\n      <th>lng</th>\n    </tr>\n  </thead>\n  <tbody>\n    <tr>\n      <th>0</th>\n      <td>신신약국</td>\n      <td>충청남도 홍성군 갈산면 상촌로 12-1</td>\n      <td>34840559</td>\n      <td>약국</td>\n      <td>36.602986</td>\n      <td>126.548911</td>\n    </tr>\n    <tr>\n      <th>1</th>\n      <td>밝은온누리약국</td>\n      <td>대구광역시 달서구 달구벌대로 1736 1층 (두류동)</td>\n      <td>37844571</td>\n      <td>약국</td>\n      <td>35.856678</td>\n      <td>128.555278</td>\n    </tr>\n    <tr>\n      <th>2</th>\n      <td>지애약국</td>\n      <td>충청남도 보령시 남대천로 58 (대천동)</td>\n      <td>34833323</td>\n      <td>약국</td>\n      <td>36.348742</td>\n      <td>126.593534</td>\n    </tr>\n    <tr>\n      <th>3</th>\n      <td>고령쌍림우체국</td>\n      <td>경상북도 고령군 쌍림면 대가야로 608</td>\n      <td>5038300744</td>\n      <td>우체국</td>\n      <td>35.679196</td>\n      <td>128.242253</td>\n    </tr>\n    <tr>\n      <th>4</th>\n      <td>굿모닝약국</td>\n      <td>부산광역시 금정구 서동로 168 송월빌딩 1층 102호 (서동)</td>\n      <td>21839824</td>\n      <td>약국</td>\n      <td>35.214448</td>\n      <td>129.104775</td>\n    </tr>\n  </tbody>\n</table>\n</div>"
     },
     "metadata": {},
     "execution_count": 3
    }
   ],
   "source": [
    "store_df.head()"
   ]
  },
  {
   "cell_type": "code",
   "execution_count": 4,
   "metadata": {},
   "outputs": [
    {
     "output_type": "stream",
     "name": "stdout",
     "text": "<class 'pandas.core.frame.DataFrame'>\nRangeIndex: 26252 entries, 0 to 26251\nData columns (total 6 columns):\n #   Column   Non-Null Count  Dtype  \n---  ------   --------------  -----  \n 0   name     26252 non-null  object \n 1   address  26252 non-null  object \n 2   code     26252 non-null  object \n 3   vendor   26252 non-null  object \n 4   lat      26247 non-null  float64\n 5   lng      26247 non-null  float64\ndtypes: float64(2), object(4)\nmemory usage: 1.2+ MB\n"
    }
   ],
   "source": [
    "store_df.info()"
   ]
  },
  {
   "cell_type": "code",
   "execution_count": 5,
   "metadata": {},
   "outputs": [],
   "source": [
    "sales_list = []\n",
    "i = 1\n",
    "\n",
    "while True:\n",
    "    sales_url = 'https://8oi9s0nnth.apigw.ntruss.com/corona19-masks/v1/sales/json'\n",
    "    PARAMS = {'page':i}\n",
    "    response = requests.get(url = sales_url, params = PARAMS)\n",
    "    response_dict = response.json()\n",
    "\n",
    "    page_count = response_dict['totalPages']\n",
    "\n",
    "    for sales in response_dict['sales']:\n",
    "        result = []\n",
    "        keys = ['code', 'stock_at', 'remain_stat', 'created_at']\n",
    "        for key in keys:\n",
    "            if key in sales:\n",
    "                result.append(sales[key])\n",
    "            else:\n",
    "                result.append(None)\n",
    "            \n",
    "        sales_list.append(result)\n",
    "    \n",
    "    if page_count == i:\n",
    "        break\n",
    "    else:\n",
    "        i += 1\n",
    "\n",
    "sales_df = pd.DataFrame(sales_list, columns = ['code', 'stock_at', 'remain_status', 'created_at'])\n",
    "sales_df['code'] = sales_df.code.map(str)"
   ]
  },
  {
   "cell_type": "code",
   "execution_count": 6,
   "metadata": {},
   "outputs": [
    {
     "output_type": "execute_result",
     "data": {
      "text/plain": "       code             stock_at remain_status           created_at\n0  31837492  2020/04/11 09:30:00         break  2020/04/12 17:55:00\n1  21836841  2020/04/11 09:08:00         break  2020/04/12 17:55:00\n2  37839128  2020/04/11 11:46:00         break  2020/04/12 17:55:00\n3  11831049  2020/04/11 11:54:00        plenty  2020/04/12 17:55:00\n4  21839271  2020/04/12 09:20:00          some  2020/04/12 17:55:00",
      "text/html": "<div>\n<style scoped>\n    .dataframe tbody tr th:only-of-type {\n        vertical-align: middle;\n    }\n\n    .dataframe tbody tr th {\n        vertical-align: top;\n    }\n\n    .dataframe thead th {\n        text-align: right;\n    }\n</style>\n<table border=\"1\" class=\"dataframe\">\n  <thead>\n    <tr style=\"text-align: right;\">\n      <th></th>\n      <th>code</th>\n      <th>stock_at</th>\n      <th>remain_status</th>\n      <th>created_at</th>\n    </tr>\n  </thead>\n  <tbody>\n    <tr>\n      <th>0</th>\n      <td>31837492</td>\n      <td>2020/04/11 09:30:00</td>\n      <td>break</td>\n      <td>2020/04/12 17:55:00</td>\n    </tr>\n    <tr>\n      <th>1</th>\n      <td>21836841</td>\n      <td>2020/04/11 09:08:00</td>\n      <td>break</td>\n      <td>2020/04/12 17:55:00</td>\n    </tr>\n    <tr>\n      <th>2</th>\n      <td>37839128</td>\n      <td>2020/04/11 11:46:00</td>\n      <td>break</td>\n      <td>2020/04/12 17:55:00</td>\n    </tr>\n    <tr>\n      <th>3</th>\n      <td>11831049</td>\n      <td>2020/04/11 11:54:00</td>\n      <td>plenty</td>\n      <td>2020/04/12 17:55:00</td>\n    </tr>\n    <tr>\n      <th>4</th>\n      <td>21839271</td>\n      <td>2020/04/12 09:20:00</td>\n      <td>some</td>\n      <td>2020/04/12 17:55:00</td>\n    </tr>\n  </tbody>\n</table>\n</div>"
     },
     "metadata": {},
     "execution_count": 6
    }
   ],
   "source": [
    "sales_df.head()"
   ]
  },
  {
   "cell_type": "code",
   "execution_count": 7,
   "metadata": {},
   "outputs": [
    {
     "output_type": "stream",
     "name": "stdout",
     "text": "<class 'pandas.core.frame.DataFrame'>\nRangeIndex: 25724 entries, 0 to 25723\nData columns (total 4 columns):\n #   Column         Non-Null Count  Dtype \n---  ------         --------------  ----- \n 0   code           25724 non-null  object\n 1   stock_at       25676 non-null  object\n 2   remain_status  25676 non-null  object\n 3   created_at     25724 non-null  object\ndtypes: object(4)\nmemory usage: 804.0+ KB\n"
    }
   ],
   "source": [
    "sales_df.info()"
   ]
  },
  {
   "cell_type": "code",
   "execution_count": 8,
   "metadata": {},
   "outputs": [
    {
     "output_type": "execute_result",
     "data": {
      "text/plain": "       code             stock_at remain_status           created_at  name  \\\n0  31837492  2020/04/11 09:30:00         break  2020/04/12 17:55:00  현대약국   \n1  21836841  2020/04/11 09:08:00         break  2020/04/12 17:55:00  덕인약국   \n2  37839128  2020/04/11 11:46:00         break  2020/04/12 17:55:00  민다약국   \n3  11831049  2020/04/11 11:54:00        plenty  2020/04/12 17:55:00  국일약국   \n4  21839271  2020/04/12 09:20:00          some  2020/04/12 17:55:00  진하약국   \n\n                       address vendor        lat         lng  \n0  경기도 파주시 시청로 209 (아동동, 호수빌딩)     약국  37.770944  126.775845  \n1      부산광역시 해운대구 우동2로 16 (우동)     약국  35.166153  129.160501  \n2      경상북도 고령군 대가야읍 왕릉로 105-1     약국  35.729189  128.267101  \n3     서울특별시 종로구 종로16길 12 (관철동)     약국  37.569560  126.988520  \n4        부산광역시 기장군 일광면 일광로 609     약국  35.296527  129.258738  ",
      "text/html": "<div>\n<style scoped>\n    .dataframe tbody tr th:only-of-type {\n        vertical-align: middle;\n    }\n\n    .dataframe tbody tr th {\n        vertical-align: top;\n    }\n\n    .dataframe thead th {\n        text-align: right;\n    }\n</style>\n<table border=\"1\" class=\"dataframe\">\n  <thead>\n    <tr style=\"text-align: right;\">\n      <th></th>\n      <th>code</th>\n      <th>stock_at</th>\n      <th>remain_status</th>\n      <th>created_at</th>\n      <th>name</th>\n      <th>address</th>\n      <th>vendor</th>\n      <th>lat</th>\n      <th>lng</th>\n    </tr>\n  </thead>\n  <tbody>\n    <tr>\n      <th>0</th>\n      <td>31837492</td>\n      <td>2020/04/11 09:30:00</td>\n      <td>break</td>\n      <td>2020/04/12 17:55:00</td>\n      <td>현대약국</td>\n      <td>경기도 파주시 시청로 209 (아동동, 호수빌딩)</td>\n      <td>약국</td>\n      <td>37.770944</td>\n      <td>126.775845</td>\n    </tr>\n    <tr>\n      <th>1</th>\n      <td>21836841</td>\n      <td>2020/04/11 09:08:00</td>\n      <td>break</td>\n      <td>2020/04/12 17:55:00</td>\n      <td>덕인약국</td>\n      <td>부산광역시 해운대구 우동2로 16 (우동)</td>\n      <td>약국</td>\n      <td>35.166153</td>\n      <td>129.160501</td>\n    </tr>\n    <tr>\n      <th>2</th>\n      <td>37839128</td>\n      <td>2020/04/11 11:46:00</td>\n      <td>break</td>\n      <td>2020/04/12 17:55:00</td>\n      <td>민다약국</td>\n      <td>경상북도 고령군 대가야읍 왕릉로 105-1</td>\n      <td>약국</td>\n      <td>35.729189</td>\n      <td>128.267101</td>\n    </tr>\n    <tr>\n      <th>3</th>\n      <td>11831049</td>\n      <td>2020/04/11 11:54:00</td>\n      <td>plenty</td>\n      <td>2020/04/12 17:55:00</td>\n      <td>국일약국</td>\n      <td>서울특별시 종로구 종로16길 12 (관철동)</td>\n      <td>약국</td>\n      <td>37.569560</td>\n      <td>126.988520</td>\n    </tr>\n    <tr>\n      <th>4</th>\n      <td>21839271</td>\n      <td>2020/04/12 09:20:00</td>\n      <td>some</td>\n      <td>2020/04/12 17:55:00</td>\n      <td>진하약국</td>\n      <td>부산광역시 기장군 일광면 일광로 609</td>\n      <td>약국</td>\n      <td>35.296527</td>\n      <td>129.258738</td>\n    </tr>\n  </tbody>\n</table>\n</div>"
     },
     "metadata": {},
     "execution_count": 8
    }
   ],
   "source": [
    "mask_df = pd.merge(sales_df, store_df, how = 'inner', on='code').drop_duplicates()\n",
    "mask_df.head()"
   ]
  },
  {
   "cell_type": "code",
   "execution_count": 9,
   "metadata": {},
   "outputs": [
    {
     "output_type": "execute_result",
     "data": {
      "text/plain": "   name        lat         lng remain_status\n0  현대약국  37.770944  126.775845         break\n1  덕인약국  35.166153  129.160501         break\n2  민다약국  35.729189  128.267101         break\n3  국일약국  37.569560  126.988520        plenty\n4  진하약국  35.296527  129.258738          some",
      "text/html": "<div>\n<style scoped>\n    .dataframe tbody tr th:only-of-type {\n        vertical-align: middle;\n    }\n\n    .dataframe tbody tr th {\n        vertical-align: top;\n    }\n\n    .dataframe thead th {\n        text-align: right;\n    }\n</style>\n<table border=\"1\" class=\"dataframe\">\n  <thead>\n    <tr style=\"text-align: right;\">\n      <th></th>\n      <th>name</th>\n      <th>lat</th>\n      <th>lng</th>\n      <th>remain_status</th>\n    </tr>\n  </thead>\n  <tbody>\n    <tr>\n      <th>0</th>\n      <td>현대약국</td>\n      <td>37.770944</td>\n      <td>126.775845</td>\n      <td>break</td>\n    </tr>\n    <tr>\n      <th>1</th>\n      <td>덕인약국</td>\n      <td>35.166153</td>\n      <td>129.160501</td>\n      <td>break</td>\n    </tr>\n    <tr>\n      <th>2</th>\n      <td>민다약국</td>\n      <td>35.729189</td>\n      <td>128.267101</td>\n      <td>break</td>\n    </tr>\n    <tr>\n      <th>3</th>\n      <td>국일약국</td>\n      <td>37.569560</td>\n      <td>126.988520</td>\n      <td>plenty</td>\n    </tr>\n    <tr>\n      <th>4</th>\n      <td>진하약국</td>\n      <td>35.296527</td>\n      <td>129.258738</td>\n      <td>some</td>\n    </tr>\n  </tbody>\n</table>\n</div>"
     },
     "metadata": {},
     "execution_count": 9
    }
   ],
   "source": [
    "draw_df = mask_df[['name', 'lat', 'lng', 'remain_status']]\n",
    "draw_df.head()"
   ]
  },
  {
   "cell_type": "code",
   "execution_count": 10,
   "metadata": {},
   "outputs": [
    {
     "output_type": "stream",
     "name": "stdout",
     "text": "<class 'pandas.core.frame.DataFrame'>\nInt64Index: 25673 entries, 0 to 25672\nData columns (total 4 columns):\n #   Column         Non-Null Count  Dtype  \n---  ------         --------------  -----  \n 0   name           25673 non-null  object \n 1   lat            25668 non-null  float64\n 2   lng            25668 non-null  float64\n 3   remain_status  25631 non-null  object \ndtypes: float64(2), object(2)\nmemory usage: 1002.9+ KB\n"
    }
   ],
   "source": [
    "draw_df.info()"
   ]
  },
  {
   "cell_type": "code",
   "execution_count": 11,
   "metadata": {},
   "outputs": [
    {
     "output_type": "execute_result",
     "data": {
      "text/plain": "(16714, 4)"
     },
     "metadata": {},
     "execution_count": 11
    }
   ],
   "source": [
    "# lat와 lng의 값이 없으면 지도에서 표시할 수 없기 떄문에 null을 제외\n",
    "draw_df_clean = draw_df[draw_df['remain_status'] != 'break'].dropna()\n",
    "draw_df_clean.shape"
   ]
  },
  {
   "cell_type": "code",
   "execution_count": 12,
   "metadata": {},
   "outputs": [],
   "source": [
    "color_dict = {\n",
    "    'plenty': 'green',\n",
    "    'some': 'orange',\n",
    "    'few': 'red',\n",
    "    'empty': 'gray',\n",
    "    'no_data': 'purple'\n",
    "}\n",
    "\n",
    "label_dict = {\n",
    "    'plenty': '100개 이상',\n",
    "    'some': '30개 이상',\n",
    "    'few': '30개 미만',\n",
    "    'empty': '재고 없음',\n",
    "    'no_data': '정보 없음'\n",
    "}"
   ]
  },
  {
   "cell_type": "code",
   "execution_count": 13,
   "metadata": {},
   "outputs": [],
   "source": [
    "mask_map = folium.Map((36.586466, 128.186711), zoom_start = 7)\n",
    "mc = MarkerCluster()\n",
    "\n",
    "names = list(draw_df_clean['name'])\n",
    "latitudes = list(draw_df_clean['lat'])\n",
    "longitudes = list(draw_df_clean['lng'])\n",
    "status = list(draw_df_clean['remain_status'])\n",
    "\n",
    "for i in range(len(names)):\n",
    "    mc.add_child(folium.Marker(\n",
    "        location = [latitudes[i], longitudes[i]], \n",
    "        icon = folium.Icon(color = color_dict[status[i]]), \n",
    "        # popup = names[i] + ' ' + label_dict[status[i]])\n",
    "        popup = f'{names[i]} ({label_dict[status[i]]})')\n",
    "    )\n",
    "    mask_map.add_child(mc)"
   ]
  },
  {
   "cell_type": "code",
   "execution_count": 14,
   "metadata": {},
   "outputs": [],
   "source": [
    "mask_map.save(\"html/mask_map.html\")"
   ]
  }
 ]
}